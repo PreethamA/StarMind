{
 "cells": [
  {
   "cell_type": "markdown",
   "metadata": {},
   "source": [
    "This Python note book shows how to extract unique names  and calculation of Levenshtein distance to the word \"Luca\" for the dataset in the given link\n",
    "(https://opendata.swiss/en/dataset/hundenamen-aus-dem-hundebestand-der-stadt-zurich2/resource/3e48403f-1ca2-434f-8766-cf0a73d7c2a1)"
   ]
  },
  {
   "cell_type": "code",
   "execution_count": 14,
   "metadata": {},
   "outputs": [],
   "source": [
    "import re\n",
    "import pandas as pd"
   ]
  },
  {
   "cell_type": "code",
   "execution_count": 15,
   "metadata": {},
   "outputs": [],
   "source": [
    "DataFrame=pd.read_csv(\"C:\\\\Users\\\\preet\\\\Desktop\\\\CodeChallenge\\\\Starmind\\\\20210103_hundenamen.csv\")"
   ]
  },
  {
   "cell_type": "code",
   "execution_count": 16,
   "metadata": {},
   "outputs": [
    {
     "data": {
      "text/html": [
       "<div>\n",
       "<style scoped>\n",
       "    .dataframe tbody tr th:only-of-type {\n",
       "        vertical-align: middle;\n",
       "    }\n",
       "\n",
       "    .dataframe tbody tr th {\n",
       "        vertical-align: top;\n",
       "    }\n",
       "\n",
       "    .dataframe thead th {\n",
       "        text-align: right;\n",
       "    }\n",
       "</style>\n",
       "<table border=\"1\" class=\"dataframe\">\n",
       "  <thead>\n",
       "    <tr style=\"text-align: right;\">\n",
       "      <th></th>\n",
       "      <th>HUNDENAME</th>\n",
       "      <th>GEBURTSJAHR_HUND</th>\n",
       "      <th>GESCHLECHT_HUND</th>\n",
       "    </tr>\n",
       "  </thead>\n",
       "  <tbody>\n",
       "    <tr>\n",
       "      <th>0</th>\n",
       "      <td>Ituma</td>\n",
       "      <td>2011</td>\n",
       "      <td>w</td>\n",
       "    </tr>\n",
       "    <tr>\n",
       "      <th>1</th>\n",
       "      <td>\"Bo\" Bendy of Treegarden</td>\n",
       "      <td>2020</td>\n",
       "      <td>m</td>\n",
       "    </tr>\n",
       "    <tr>\n",
       "      <th>2</th>\n",
       "      <td>\"Bobby\" Lord Sinclair</td>\n",
       "      <td>2009</td>\n",
       "      <td>m</td>\n",
       "    </tr>\n",
       "    <tr>\n",
       "      <th>3</th>\n",
       "      <td>\"Buddy\" Fortheringhay's J.</td>\n",
       "      <td>2011</td>\n",
       "      <td>m</td>\n",
       "    </tr>\n",
       "    <tr>\n",
       "      <th>4</th>\n",
       "      <td>\"Fly\" Showring i fly for you</td>\n",
       "      <td>2015</td>\n",
       "      <td>w</td>\n",
       "    </tr>\n",
       "    <tr>\n",
       "      <th>...</th>\n",
       "      <td>...</td>\n",
       "      <td>...</td>\n",
       "      <td>...</td>\n",
       "    </tr>\n",
       "    <tr>\n",
       "      <th>8569</th>\n",
       "      <td>unbekannt</td>\n",
       "      <td>2010</td>\n",
       "      <td>w</td>\n",
       "    </tr>\n",
       "    <tr>\n",
       "      <th>8570</th>\n",
       "      <td>unbekannt</td>\n",
       "      <td>2011</td>\n",
       "      <td>m</td>\n",
       "    </tr>\n",
       "    <tr>\n",
       "      <th>8571</th>\n",
       "      <td>unbekannt</td>\n",
       "      <td>2018</td>\n",
       "      <td>m</td>\n",
       "    </tr>\n",
       "    <tr>\n",
       "      <th>8572</th>\n",
       "      <td>unbekannt</td>\n",
       "      <td>2018</td>\n",
       "      <td>m</td>\n",
       "    </tr>\n",
       "    <tr>\n",
       "      <th>8573</th>\n",
       "      <td>unbekannt</td>\n",
       "      <td>2017</td>\n",
       "      <td>m</td>\n",
       "    </tr>\n",
       "  </tbody>\n",
       "</table>\n",
       "<p>8574 rows × 3 columns</p>\n",
       "</div>"
      ],
      "text/plain": [
       "                         HUNDENAME  GEBURTSJAHR_HUND GESCHLECHT_HUND\n",
       "0                            Ituma              2011               w\n",
       "1         \"Bo\" Bendy of Treegarden              2020               m\n",
       "2            \"Bobby\" Lord Sinclair              2009               m\n",
       "3       \"Buddy\" Fortheringhay's J.              2011               m\n",
       "4     \"Fly\" Showring i fly for you              2015               w\n",
       "...                            ...               ...             ...\n",
       "8569                     unbekannt              2010               w\n",
       "8570                     unbekannt              2011               m\n",
       "8571                     unbekannt              2018               m\n",
       "8572                     unbekannt              2018               m\n",
       "8573                     unbekannt              2017               m\n",
       "\n",
       "[8574 rows x 3 columns]"
      ]
     },
     "execution_count": 16,
     "metadata": {},
     "output_type": "execute_result"
    }
   ],
   "source": [
    "DataFrame"
   ]
  },
  {
   "cell_type": "code",
   "execution_count": 17,
   "metadata": {},
   "outputs": [],
   "source": [
    "def Levenshtein_distance(s1, s2):\n",
    "    # Length of words\n",
    "    m=len(s1)+1\n",
    "    n=len(s2)+1\n",
    "    # loop to create a table with length of (s1 and s2) elements and their distance\n",
    "    tbl = {}\n",
    "    #source prefixes can be transformed into empty string by dropping all characters\n",
    "    for i in range(m): tbl[i,0]=i\n",
    "    # target prefixes can be reached from empty source prefix by inserting every character    \n",
    "    for j in range(n): tbl[0,j]=j\n",
    "    # Loop to find the Levenshtein distance using table    \n",
    "    for i in range(1, m):\n",
    "        for j in range(1, n):\n",
    "            # check each element if they are same return 0 else 1 \n",
    "            cost = 0 if s1[i-1] == s2[j-1] else 1\n",
    "            # check the \n",
    "            tbl[i,j] = min(tbl[i, j-1]+1,  # deletion\n",
    "                           tbl[i-1, j]+1,  # insertion\n",
    "                           tbl[i-1, j-1]+cost) #substition of cost\n",
    "\n",
    "    return tbl[i,j]\n",
    "\n"
   ]
  },
  {
   "cell_type": "code",
   "execution_count": 51,
   "metadata": {},
   "outputs": [],
   "source": [
    "# Extract only dogsname column values\n",
    "z=[x for x in DataFrame['HUNDENAME']]"
   ]
  },
  {
   "cell_type": "code",
   "execution_count": 53,
   "metadata": {},
   "outputs": [],
   "source": [
    "# remove special characters from dogsname\n",
    "s1=[re.sub(\"[^A-Za-z]\",\"\",i) for i in z]"
   ]
  },
  {
   "cell_type": "code",
   "execution_count": 47,
   "metadata": {},
   "outputs": [],
   "source": [
    "# Extract words of Levenshtein distance of 1 to \"Luca\"\n",
    "allwords=[]\n",
    "for i in s1:\n",
    "    L=Levenshtein_distance(\"Luca\", i)\n",
    "    if L==1:\n",
    "        allwords.append(i)"
   ]
  },
  {
   "cell_type": "code",
   "execution_count": 48,
   "metadata": {},
   "outputs": [
    {
     "name": "stdout",
     "output_type": "stream",
     "text": [
      "['Cuca', 'Lua', 'Luba', 'Lucas', 'Luce', 'Lucia', 'Lucy', 'Lula', 'Luma', 'Luna', 'Lupa', 'Yuca']\n"
     ]
    }
   ],
   "source": [
    "# Print unique words from Levenshtein distance of 1 to \"Luca\"\n",
    "uniqueWords = [] \n",
    "for i in allwords:\n",
    "      if not i in uniqueWords:\n",
    "        uniqueWords.append(i);\n",
    "\n",
    "print(uniqueWords)"
   ]
  }
 ],
 "metadata": {
  "kernelspec": {
   "display_name": "Python 3",
   "language": "python",
   "name": "python3"
  },
  "language_info": {
   "codemirror_mode": {
    "name": "ipython",
    "version": 3
   },
   "file_extension": ".py",
   "mimetype": "text/x-python",
   "name": "python",
   "nbconvert_exporter": "python",
   "pygments_lexer": "ipython3",
   "version": "3.6.2"
  }
 },
 "nbformat": 4,
 "nbformat_minor": 4
}
